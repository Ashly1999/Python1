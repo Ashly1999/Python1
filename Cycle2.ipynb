{
  "nbformat": 4,
  "nbformat_minor": 0,
  "metadata": {
    "colab": {
      "name": "Cycle2.ipynb",
      "provenance": []
    },
    "kernelspec": {
      "name": "python3",
      "display_name": "Python 3"
    }
  },
  "cells": [
    {
      "cell_type": "code",
      "metadata": {
        "colab": {
          "base_uri": "https://localhost:8080/"
        },
        "id": "Wc3IrGnMkgv5",
        "outputId": "811d7957-61d1-4576-b34d-b7cd54cd4bd9"
      },
      "source": [
        "#Display future leap years from current year to a final year entered by user.\r\n",
        "s=int(input(\"Enter starting year:\"))\r\n",
        "e=int(input(\"Enter ending year:\"))\r\n",
        "print(\"leap years between\",s,\"and\",e)\r\n",
        "while (s<=e):\r\n",
        "  if ((s%400==0) or ((s%4==0) and (s%100!=0))):\r\n",
        "    print(s)\r\n",
        "  s=s+1\r\n",
        "  "
      ],
      "execution_count": null,
      "outputs": [
        {
          "output_type": "stream",
          "text": [
            "Enter starting year:2000\n",
            "Enter ending year:2021\n",
            "leap years between 2000 and 2021\n",
            "2000\n",
            "2004\n",
            "2008\n",
            "2012\n",
            "2016\n",
            "2020\n"
          ],
          "name": "stdout"
        }
      ]
    },
    {
      "cell_type": "code",
      "metadata": {
        "id": "QvKRbhznp9xu",
        "colab": {
          "base_uri": "https://localhost:8080/"
        },
        "outputId": "982bd68b-6ac3-4b7b-a467-5d91a66f6e52"
      },
      "source": [
        "# Count the Occurences of each word in a line of text\r\n",
        "def word_count(str):\r\n",
        "    counts = dict()\r\n",
        "    words = str.split()\r\n",
        "\r\n",
        "    for word in words:\r\n",
        "        if word in counts:\r\n",
        "            counts[word] += 1\r\n",
        "        else:\r\n",
        "            counts[word] = 1\r\n",
        "\r\n",
        "    return counts\r\n",
        "\r\n",
        "print( word_count('the quick brown fox jumps over the lazy dog.'))"
      ],
      "execution_count": null,
      "outputs": [
        {
          "output_type": "stream",
          "text": [
            "{'the': 2, 'quick': 1, 'brown': 1, 'fox': 1, 'jumps': 1, 'over': 1, 'lazy': 1, 'dog.': 1}\n"
          ],
          "name": "stdout"
        }
      ]
    },
    {
      "cell_type": "code",
      "metadata": {
        "colab": {
          "base_uri": "https://localhost:8080/"
        },
        "id": "oiHomYl382Ii",
        "outputId": "4b38f44d-767f-4bf9-ccc2-a11a1e1a1962"
      },
      "source": [
        "#Get a string from an input string where all occurences of first character replaced with '$', except first character\r\n",
        "def change_char(str1):  \r\n",
        "  char = str1[0]  \r\n",
        "  length = len(str1)  \r\n",
        "  str1 = str1.replace(char, '$')  \r\n",
        "  str1 = char + str1[1:]  \r\n",
        "  \r\n",
        "  return str1  \r\n",
        "  \r\n",
        "print(change_char('restart')) "
      ],
      "execution_count": null,
      "outputs": [
        {
          "output_type": "stream",
          "text": [
            "resta$t\n"
          ],
          "name": "stdout"
        }
      ]
    },
    {
      "cell_type": "code",
      "metadata": {
        "colab": {
          "base_uri": "https://localhost:8080/"
        },
        "id": "lNBk_wRC-Fu5",
        "outputId": "3c92df9c-9944-48fc-8efe-61f8a5d86714"
      },
      "source": [
        "#Create a string from given string where first and last characters are exchanged.[eg: python-nohtyp]\r\n",
        "def change_sring(str1):  \r\n",
        "      return str1[-1:] + str1[1:-1]  + str1[:1] \r\n",
        "        \r\n",
        "print(change_sring('abcd'))  "
      ],
      "execution_count": null,
      "outputs": [
        {
          "output_type": "stream",
          "text": [
            "dbca\n"
          ],
          "name": "stdout"
        }
      ]
    },
    {
      "cell_type": "code",
      "metadata": {
        "colab": {
          "base_uri": "https://localhost:8080/"
        },
        "id": "xA6tmgZimVfH",
        "outputId": "895edc56-6928-4252-8dd8-a8ad2fdb45dc"
      },
      "source": [
        "# Accept the radius from user and find the area of circle\r\n",
        "import math\r\n",
        "r = float(input(\"Enter the radius of the circle: \"))\r\n",
        "area = math.pi* r * r\r\n",
        "print(\"%.2f\" %area)"
      ],
      "execution_count": null,
      "outputs": [
        {
          "output_type": "stream",
          "text": [
            "Enter the radius of the circle: 2\n",
            "12.57\n"
          ],
          "name": "stdout"
        }
      ]
    },
    {
      "cell_type": "code",
      "metadata": {
        "colab": {
          "base_uri": "https://localhost:8080/"
        },
        "id": "nb9bwKz4n2rL",
        "outputId": "d7189c7e-3e63-453f-8198-0d421dfad61f"
      },
      "source": [
        "#Find the biigest of 3 numbers entered\r\n",
        "num1 = float(input(\"Enter first number: \"))\r\n",
        "num2 = float(input(\"Enter second number: \"))\r\n",
        "num3 = float(input(\"Enter third number: \"))\r\n",
        " \r\n",
        "if (num1 > num2) and (num1 > num3):\r\n",
        "   largest = num1\r\n",
        "elif (num2 > num1) and (num2 > num3):\r\n",
        "   largest = num2\r\n",
        "else:\r\n",
        "   largest = num3\r\n",
        " \r\n",
        "print(\"The largest number is\",largest)"
      ],
      "execution_count": null,
      "outputs": [
        {
          "output_type": "stream",
          "text": [
            "Enter first number: 5\n",
            "Enter second number: 2\n",
            "Enter third number: 4\n",
            "The largest number is 5.0\n"
          ],
          "name": "stdout"
        }
      ]
    },
    {
      "cell_type": "code",
      "metadata": {
        "colab": {
          "base_uri": "https://localhost:8080/"
        },
        "id": "Ri3rWNJ0Wcpf",
        "outputId": "baced6d4-957a-4c20-aa4c-c04280451357"
      },
      "source": [
        "#Accept an integer n and compute n+nn+nnn\r\n",
        "a = int(input(\"Input an integer : \"))\r\n",
        "n1 = int( \"%s\" % a )\r\n",
        "n2 = int( \"%s%s\" % (a,a) )\r\n",
        "n3 = int( \"%s%s%s\" % (a,a,a) )\r\n",
        "print (n1+n2+n3)"
      ],
      "execution_count": null,
      "outputs": [
        {
          "output_type": "stream",
          "text": [
            "Input an integer : 5\n",
            "615\n"
          ],
          "name": "stdout"
        }
      ]
    },
    {
      "cell_type": "code",
      "metadata": {
        "colab": {
          "base_uri": "https://localhost:8080/"
        },
        "id": "BWNcdkSijcRq",
        "outputId": "4c04fc95-a480-45d0-b949-57be909139f0"
      },
      "source": [
        "#Merge two dictionaries\r\n",
        "def Merge(dict1, dict2):\r\n",
        "    return(dict2.update(dict1))\r\n",
        "dict1 = {'a': 10, 'b': 8}\r\n",
        "dict2 = {'d': 6, 'c': 4}\r\n",
        "print(Merge(dict1, dict2))\r\n",
        "print(dict2)    "
      ],
      "execution_count": null,
      "outputs": [
        {
          "output_type": "stream",
          "text": [
            "None\n",
            "{'d': 6, 'c': 4, 'a': 10, 'b': 8}\n"
          ],
          "name": "stdout"
        }
      ]
    },
    {
      "cell_type": "code",
      "metadata": {
        "colab": {
          "base_uri": "https://localhost:8080/"
        },
        "id": "wGM6EZq3j9hE",
        "outputId": "19b320f4-57cc-4864-f5f2-15913e90cb78"
      },
      "source": [
        "#Find gcd of two numbers\r\n",
        "num1 = int(input(\"Enter 1st number: \"))\r\n",
        "num2 = int(input(\"Enter 2nd number: \"))\r\n",
        "i = 1\r\n",
        "while(i <= num1 and i <= num2):\r\n",
        "  if(num1 % i == 0 and num2 % i == 0):\r\n",
        "    gcd = i\r\n",
        "  i = i + 1\r\n",
        "print(\"GCD is\", gcd)"
      ],
      "execution_count": null,
      "outputs": [
        {
          "output_type": "stream",
          "text": [
            "Enter 1st number: 5\n",
            "Enter 2nd number: 15\n",
            "GCD is 5\n"
          ],
          "name": "stdout"
        }
      ]
    },
    {
      "cell_type": "code",
      "metadata": {
        "colab": {
          "base_uri": "https://localhost:8080/"
        },
        "id": "1WZVTRvgnWGe",
        "outputId": "d2cca3c6-3bef-4cac-ea6f-d90c6f5c5249"
      },
      "source": [
        "#From a list of integers,create a list removing even numbers\r\n",
        "num = [7,8, 120, 25, 44, 20, 27]\r\n",
        "num = [x for x in num if x%2!=0]\r\n",
        "print(num)"
      ],
      "execution_count": null,
      "outputs": [
        {
          "output_type": "stream",
          "text": [
            "[7, 25, 27]\n"
          ],
          "name": "stdout"
        }
      ]
    }
  ]
}