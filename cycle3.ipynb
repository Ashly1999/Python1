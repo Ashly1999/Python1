{
  "nbformat": 4,
  "nbformat_minor": 0,
  "metadata": {
    "colab": {
      "name": "cycle3.ipynb",
      "provenance": []
    },
    "kernelspec": {
      "name": "python3",
      "display_name": "Python 3"
    }
  },
  "cells": [
    {
      "cell_type": "code",
      "metadata": {
        "colab": {
          "base_uri": "https://localhost:8080/"
        },
        "id": "dCgtyKqYuLgx",
        "outputId": "b12a61e2-1739-45df-97ae-ff9bdeeffe51"
      },
      "source": [
        "# 1)Program to find the factorial of a number \r\n",
        "n=int(input(\"enter any number : \"))\r\n",
        "fact=1\r\n",
        "i=1\r\n",
        "while i<=n:\r\n",
        "\tfact=fact*i\r\n",
        "\ti=i+1\r\n",
        "print(\"factorial of\",n,\"is\",fact)\r\n"
      ],
      "execution_count": null,
      "outputs": [
        {
          "output_type": "stream",
          "text": [
            "enter any number : 7\n",
            "factorial of 7 is 5040\n"
          ],
          "name": "stdout"
        }
      ]
    },
    {
      "cell_type": "code",
      "metadata": {
        "colab": {
          "base_uri": "https://localhost:8080/"
        },
        "id": "o56vE_dcBBBj",
        "outputId": "93cbd812-079d-48e1-b820-f7bf0a8401b0"
      },
      "source": [
        "# 2)Generate Fibonacci series of N terms \r\n",
        "n = int(input(\"Enter the value of 'n': \"))\r\n",
        "a = 0\r\n",
        "b = 1\r\n",
        "sum = 0\r\n",
        "count = 1\r\n",
        "print(\"Fibonacci Series: \", end = \" \")\r\n",
        "while(count <= n):\r\n",
        "  print(sum, end = \" \")\r\n",
        "  count += 1\r\n",
        "  a = b\r\n",
        "  b = sum\r\n",
        "  sum = a + b"
      ],
      "execution_count": null,
      "outputs": [
        {
          "output_type": "stream",
          "text": [
            "Enter the value of 'n': 5\n",
            "Fibonacci Series:  0 1 1 2 3 "
          ],
          "name": "stdout"
        }
      ]
    },
    {
      "cell_type": "code",
      "metadata": {
        "colab": {
          "base_uri": "https://localhost:8080/"
        },
        "id": "ni0OGoceBZen",
        "outputId": "36391392-cf19-4d1d-885e-996460316648"
      },
      "source": [
        "# 3) Find the sum of all items in a list \r\n",
        "n=[]\r\n",
        "x=int(input(\"enter the limit of list elements : \"))\r\n",
        "for i in range(1,x+1):\r\n",
        "    a=int(input())\r\n",
        "    n.append(a)\r\n",
        "t=sum(n)\r\n",
        "print(\"sum of all element in this list is :\",t)"
      ],
      "execution_count": null,
      "outputs": [
        {
          "output_type": "stream",
          "text": [
            "enter the limit of list elements : 5\n",
            "1\n",
            "3\n",
            "5\n",
            "7\n",
            "9\n",
            "sum of all element in this list is : 25\n"
          ],
          "name": "stdout"
        }
      ]
    },
    {
      "cell_type": "code",
      "metadata": {
        "id": "IGCCyMDKID-O",
        "colab": {
          "base_uri": "https://localhost:8080/"
        },
        "outputId": "b924d3b0-2622-4816-eabc-8a9b902c1356"
      },
      "source": [
        "# 4) Generate a list of four digit numbers in a given range with all their digits even and the number is a perfect square.\r\n",
        "for i in range(1000,10000):\r\n",
        "  for j in range(32,100):\r\n",
        "    if i==j*j:\r\n",
        "      a=str(i)\r\n",
        "      if (int(a[0])%2==0 and int(a[1])%2==0 and int(a[2])%2==0 and int(a[3])%2==0):\r\n",
        "        print(i)"
      ],
      "execution_count": null,
      "outputs": [
        {
          "output_type": "stream",
          "text": [
            "4624\n",
            "6084\n",
            "6400\n",
            "8464\n"
          ],
          "name": "stdout"
        }
      ]
    },
    {
      "cell_type": "code",
      "metadata": {
        "colab": {
          "base_uri": "https://localhost:8080/"
        },
        "id": "Kbrue9X3HxBw",
        "outputId": "46e52a7b-0a86-4e78-fb7a-ea29f30892c4"
      },
      "source": [
        " # 5) Display the given pyramid with step number accepted from user. Eg: N=4 1 2 4 3 6 9 4 8 12 16\r\n",
        " def py(n):\r\n",
        "  x=1\r\n",
        "  for i in range(1, n+1):\r\n",
        "    for j in range(1, i+1):\r\n",
        "      print(x, end=\" \")\r\n",
        "      x=x+i\r\n",
        "    x=i+1\r\n",
        "    print(\"\\r\")\r\n",
        " \r\n",
        "n=int(input(\"enter the limit : \"))\r\n",
        "py(n)"
      ],
      "execution_count": null,
      "outputs": [
        {
          "output_type": "stream",
          "text": [
            "enter the limit : 4\n",
            "1 \n",
            "2 4 \n",
            "3 6 9 \n",
            "4 8 12 16 \n"
          ],
          "name": "stdout"
        }
      ]
    },
    {
      "cell_type": "code",
      "metadata": {
        "colab": {
          "base_uri": "https://localhost:8080/"
        },
        "id": "eMQCunG8LHMD",
        "outputId": "5a27099d-3891-4190-f507-059ab967c279"
      },
      "source": [
        "# 6) Count the number of characters (character frequency) in a string. \r\n",
        "def char_frequency(str1):\r\n",
        "    dict = {}\r\n",
        "    for n in str1:\r\n",
        "        keys = dict.keys()\r\n",
        "        if n in keys:\r\n",
        "            dict[n] += 1\r\n",
        "        else:\r\n",
        "            dict[n] = 1\r\n",
        "    return dict\r\n",
        "print(char_frequency('google.com'))"
      ],
      "execution_count": null,
      "outputs": [
        {
          "output_type": "stream",
          "text": [
            "{'g': 2, 'o': 3, 'l': 1, 'e': 1, '.': 1, 'c': 1, 'm': 1}\n"
          ],
          "name": "stdout"
        }
      ]
    },
    {
      "cell_type": "code",
      "metadata": {
        "colab": {
          "base_uri": "https://localhost:8080/"
        },
        "id": "PfFheJb0LsDZ",
        "outputId": "50344d9f-6398-4c90-9118-dee1ce7bf31c"
      },
      "source": [
        "# 7) Add ‘ing’ at the end of a given string. If it already ends with ‘ing’, then add ‘ly’\r\n",
        "def add_string(str1):  \r\n",
        "  length = len(str1)  \r\n",
        "  \r\n",
        "  if length > 2:  \r\n",
        "    if str1[-3:] == 'ing':  \r\n",
        "      str1 += 'ly'  \r\n",
        "    else:  \r\n",
        "      str1 += 'ing'  \r\n",
        "  \r\n",
        "  return str1  \r\n",
        "print(add_string('ab'))  \r\n",
        "print(add_string('abc'))  \r\n",
        "print(add_string('string'))  "
      ],
      "execution_count": null,
      "outputs": [
        {
          "output_type": "stream",
          "text": [
            "ab\n",
            "abcing\n",
            "stringly\n"
          ],
          "name": "stdout"
        }
      ]
    },
    {
      "cell_type": "code",
      "metadata": {
        "colab": {
          "base_uri": "https://localhost:8080/"
        },
        "id": "lyXiI9w2MKlN",
        "outputId": "63601a39-037b-4c0d-f147-892e12a1fc24"
      },
      "source": [
        "# 8) Accept a list of words and return length of longest word. \r\n",
        "l=[]\r\n",
        "n= int(input(\"enter the number of elements in list : \"))\r\n",
        "for i in range(1,n+1):\r\n",
        "    x=input()\r\n",
        "    l.append(x)\r\n",
        "max=len(l[0])\r\n",
        "temp=l[0]\r\n",
        "for j in l:\r\n",
        "    if(len(j)>max):\r\n",
        "       max=len(j)\r\n",
        "       temp=j\r\n",
        "print(\"the word with the longest length is :\",temp)"
      ],
      "execution_count": null,
      "outputs": [
        {
          "output_type": "stream",
          "text": [
            "enter the number of elements in list : 3\n",
            "anu\n",
            "alphonsa\n",
            "abhirami\n",
            "the word with the longest length is : alphonsa\n"
          ],
          "name": "stdout"
        }
      ]
    },
    {
      "cell_type": "code",
      "metadata": {
        "colab": {
          "base_uri": "https://localhost:8080/"
        },
        "id": "x5jvcXHFMjGb",
        "outputId": "01456566-e316-4179-dbec-9f055f821c10"
      },
      "source": [
        "# 9) Construct following pattern using nested loop * * * * * * * * * * * * * * * * * * * * * * * * * \r\n",
        "n=5;\r\n",
        "for i in range(n):\r\n",
        "    for j in range(i):\r\n",
        "        print ('* ', end=\"\")\r\n",
        "    print('')\r\n",
        "\r\n",
        "for i in range(n,0,-1):\r\n",
        "    for j in range(i):\r\n",
        "        print('* ', end=\"\")\r\n",
        "    print('')"
      ],
      "execution_count": null,
      "outputs": [
        {
          "output_type": "stream",
          "text": [
            "\n",
            "* \n",
            "* * \n",
            "* * * \n",
            "* * * * \n",
            "* * * * * \n",
            "* * * * \n",
            "* * * \n",
            "* * \n",
            "* \n"
          ],
          "name": "stdout"
        }
      ]
    },
    {
      "cell_type": "code",
      "metadata": {
        "colab": {
          "base_uri": "https://localhost:8080/"
        },
        "id": "aab9f3YgNAVv",
        "outputId": "efee8b78-8fe6-4a5e-d6cd-40e05e788930"
      },
      "source": [
        "# 10) Generate all factors of a number. \r\n",
        "n=int(input(\"enter any number : \"))\r\n",
        "i=1\r\n",
        "print(\"all factors of\",n,\"are :\")\r\n",
        "while i<=n:\r\n",
        "  if n%i==0:\r\n",
        "    print(i)\r\n",
        "  i=i+1"
      ],
      "execution_count": null,
      "outputs": [
        {
          "output_type": "stream",
          "text": [
            "enter any number : 12\n",
            "all factors of 12 are :\n",
            "1\n",
            "2\n",
            "3\n",
            "4\n",
            "6\n",
            "12\n"
          ],
          "name": "stdout"
        }
      ]
    },
    {
      "cell_type": "code",
      "metadata": {
        "id": "bSBh7LfWOEXY",
        "colab": {
          "base_uri": "https://localhost:8080/"
        },
        "outputId": "aa3fba48-d47a-415e-cb36-f6200ee2916b"
      },
      "source": [
        "# 11) Write lambda functions to find area of square, rectangle and triangle\r\n",
        "s_area = lambda a:a*a  \r\n",
        "r_area = lambda l,w : l*w\r\n",
        "t_area = lambda s,a,b,c: (s*(s-a)*(s-b)*(s-c)) ** 0.5\r\n",
        "print(\"Area of square (3) is:\", s_area(3))\r\n",
        "print(\"Area of Rectangle (30,20) is:\", r_area(30,20))\r\n",
        "print(\"Area of Triangle(25,10,20,20) is:\", t_area(25,10,20,20))\r\n"
      ],
      "execution_count": 1,
      "outputs": [
        {
          "output_type": "stream",
          "text": [
            "Area of square (3) is: 9\n",
            "Area of Rectangle (30,20) is: 600\n",
            "Area of Triangle(25,10,20,20) is: 96.82458365518542\n"
          ],
          "name": "stdout"
        }
      ]
    },
    {
      "cell_type": "code",
      "metadata": {
        "id": "ajVYOmDsZsH5"
      },
      "source": [
        ""
      ],
      "execution_count": null,
      "outputs": []
    },
    {
      "cell_type": "code",
      "metadata": {
        "id": "GItxpO-NbYrS"
      },
      "source": [
        ""
      ],
      "execution_count": null,
      "outputs": []
    }
  ]
}