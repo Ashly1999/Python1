{
  "nbformat": 4,
  "nbformat_minor": 0,
  "metadata": {
    "colab": {
      "name": "cycle2.1.ipynb",
      "provenance": []
    },
    "kernelspec": {
      "name": "python3",
      "display_name": "Python 3"
    }
  },
  "cells": [
    {
      "cell_type": "code",
      "metadata": {
        "colab": {
          "base_uri": "https://localhost:8080/"
        },
        "id": "BNJM1dyXKWv_",
        "outputId": "7ae4e5db-80b7-4656-b323-0fe60ebf0ade"
      },
      "source": [
        " # 3)List comprehensions:\r\n",
        " # 3(a)Generate positive list of numbers from a given list of integers\r\n",
        "list1 = [11, -21, 0, 45, 66, -93] \r\n",
        "for num in list1:\r\n",
        "  if num >= 0: \r\n",
        "       print(num, end = \" \")\r\n"
      ],
      "execution_count": null,
      "outputs": [
        {
          "output_type": "stream",
          "text": [
            "11 0 45 66 "
          ],
          "name": "stdout"
        }
      ]
    },
    {
      "cell_type": "code",
      "metadata": {
        "colab": {
          "base_uri": "https://localhost:8080/"
        },
        "id": "iHQ_U701NawM",
        "outputId": "dae44c89-3ddf-46ec-e559-a1e9b5794eb6"
      },
      "source": [
        "# 3(b) Square of N numbers\r\n",
        "\r\n",
        "list1=[2 ,5 , 3 , 8]\r\n",
        "print(\"First list : \" ,list1)\r\n",
        "newlist=[number ** 2 for number in list1]\r\n",
        "print(\"New list : \" ,newlist)"
      ],
      "execution_count": null,
      "outputs": [
        {
          "output_type": "stream",
          "text": [
            "First list :  [2, 5, 3, 8]\n",
            "New list :  [4, 25, 9, 64]\n"
          ],
          "name": "stdout"
        }
      ]
    },
    {
      "cell_type": "code",
      "metadata": {
        "id": "0hhTWZqgPxoQ",
        "colab": {
          "base_uri": "https://localhost:8080/"
        },
        "outputId": "7ab8092a-bb15-408d-9ac8-d1d1d2ed3acb"
      },
      "source": [
        "# 3(c) Form a list of vowels selected from a given word\r\n",
        "word = input(\"enter a word\")\r\n",
        "vowels= ['a', 'e', 'i', 'o', 'u']\r\n",
        "list= []\r\n",
        "for x in word:\r\n",
        "  if(x in vowels and x not in list):\r\n",
        "    list.append(x)\r\n",
        "print(\"vowel present in the given word is:\",list)\r\n"
      ],
      "execution_count": null,
      "outputs": [
        {
          "output_type": "stream",
          "text": [
            "enter a wordanjaly\n",
            "vowel present in the given word is: ['a']\n"
          ],
          "name": "stdout"
        }
      ]
    },
    {
      "cell_type": "code",
      "metadata": {
        "id": "RZbecAYkQhH7",
        "colab": {
          "base_uri": "https://localhost:8080/"
        },
        "outputId": "5702e29d-5cca-4f5d-e8fd-de5444e78d37"
      },
      "source": [
        "# 3 (d) List ordinal value of each element of a word (Hint: use ord() to get ordinal values)\r\n",
        "a = input(\"enter the word\")\r\n",
        "for i in range (len(a)):\r\n",
        "  print(\"ascii value is \",a[i], \"is\", ord(a[i]))\r\n"
      ],
      "execution_count": null,
      "outputs": [
        {
          "output_type": "stream",
          "text": [
            "enter the wordword\n",
            "ascii value is  w is 119\n",
            "ascii value is  o is 111\n",
            "ascii value is  r is 114\n",
            "ascii value is  d is 100\n"
          ],
          "name": "stdout"
        }
      ]
    },
    {
      "cell_type": "code",
      "metadata": {
        "colab": {
          "base_uri": "https://localhost:8080/"
        },
        "id": "5gIhOu3Sq8Yz",
        "outputId": "7ce8b2a2-4e9c-429f-a834-bfc803ca6324"
      },
      "source": [
        "#5. Prompt the user for a list of integers. For all values greater than 100, store ‘over’ instead.\r\n",
        "#5\r\n",
        "x = []\r\n",
        "n = int(input(\"enter any integers:\"))\r\n",
        "for i in range(1, n+1):\r\n",
        "  a = int(input())\r\n",
        "  if (a>100):\r\n",
        "    x.append('over')\r\n",
        "  else:\r\n",
        "     x.append(a)\r\n",
        "print(\"modified list:\", x)3"
      ],
      "execution_count": null,
      "outputs": [
        {
          "output_type": "stream",
          "text": [
            "enter any integers:4\n",
            "100\n",
            "500\n",
            "200\n",
            "300\n",
            "modified list: [100, 'over', 'over', 'over']\n"
          ],
          "name": "stdout"
        }
      ]
    },
    {
      "cell_type": "code",
      "metadata": {
        "colab": {
          "base_uri": "https://localhost:8080/"
        },
        "id": "7rFAD_rICErn",
        "outputId": "04b0fdb3-e1a5-4bd5-f916-a9e8dd58a4fe"
      },
      "source": [
        "# 6) Store a list of first names. Count the occurrences of ‘a’ within the list\r\n",
        "a_list = [\"a\", \"b\", \"a\"]\r\n",
        "occurrences = a_list.count(\"a\")\r\n",
        "print(occurrences)"
      ],
      "execution_count": null,
      "outputs": [
        {
          "output_type": "stream",
          "text": [
            "2\n"
          ],
          "name": "stdout"
        }
      ]
    },
    {
      "cell_type": "code",
      "metadata": {
        "colab": {
          "base_uri": "https://localhost:8080/"
        },
        "id": "w9LRjSlXrOKi",
        "outputId": "0ac665f0-d0d6-4602-f46d-448fe608e8d0"
      },
      "source": [
        "#7Enter 2 lists of integers. Check (a) Whether list are of same length (b) whether list sums to same value (c) whether any value occur in both\r\n",
        "#7 a\r\n",
        "\r\n",
        "list1 = [1, 2, 4, 3, 8]\r\n",
        "list2 = [1, 2, 4, 3, 5]\r\n",
        "print (\"the first list is :\" + str(list1))\r\n",
        "print (\"the second list is :\" + str(list2))\r\n",
        "l1 = len(list1)\r\n",
        "l2 = len(list2)\r\n",
        "print(\"length of list1 :\", l1 , \"and length of list2 :\", l2)\r\n",
        "if l1 == l2:\r\n",
        "   print (\"list are same length\")\r\n",
        "else :\r\n",
        "    print (\"list are of different length\")"
      ],
      "execution_count": null,
      "outputs": [
        {
          "output_type": "stream",
          "text": [
            "the first list is :[1, 2, 4, 3, 8]\n",
            "the second list is :[1, 2, 4, 3, 5]\n",
            "length of list1 : 5 and length of list2 : 5\n",
            "list are same length\n"
          ],
          "name": "stdout"
        }
      ]
    },
    {
      "cell_type": "code",
      "metadata": {
        "colab": {
          "base_uri": "https://localhost:8080/"
        },
        "id": "oQXYOACkrboh",
        "outputId": "a706b7d0-43c9-44fd-85b2-91ba46cd30ff"
      },
      "source": [
        "#7b\r\n",
        "list1 = [1, 2, 4, 3, 8]\r\n",
        "list2 = [1, 2, 4, 3, 5]\r\n",
        "print (\"the first list is :\" + str(list1))\r\n",
        "print (\"the second list is :\" + str(list2))\r\n",
        "sum1 = 0\r\n",
        "sum2 = 0\r\n",
        "for x in range(0, len(list1)):\r\n",
        "    sum1 = sum1 + list1[x]\r\n",
        "print (\"sum of all elements in given list1 :\", sum1)\r\n",
        "for x in range(0, len(list2)):\r\n",
        "   sum2 = sum2 + list2[x]   \r\n",
        "print (\"sum of all elements in given list2 :\", sum2)\r\n",
        "if ( sum1 == sum2):\r\n",
        "   print (\"list sum to same value\") \r\n",
        "else:\r\n",
        "   print(\"list are of different sum\")"
      ],
      "execution_count": null,
      "outputs": [
        {
          "output_type": "stream",
          "text": [
            "the first list is :[1, 2, 4, 3, 8]\n",
            "the second list is :[1, 2, 4, 3, 5]\n",
            "sum of all elements in given list1 : 18\n",
            "sum of all elements in given list2 : 15\n",
            "list are of different sum\n"
          ],
          "name": "stdout"
        }
      ]
    },
    {
      "cell_type": "code",
      "metadata": {
        "colab": {
          "base_uri": "https://localhost:8080/"
        },
        "id": "ZJKLGf8lrlZ_",
        "outputId": "fb955b86-194a-4ab5-c027-a6be0b25c133"
      },
      "source": [
        "#7c\r\n",
        "list1 = [1, 2, 4, 3, 8]\r\n",
        "list2 = [1, 2, 4, 3, 5]\r\n",
        "print (\"the first  list is :\" + str(list1))\r\n",
        "print (\"the second list is :\" + str(list2))\r\n",
        "print (\"the values occur in both lists :\")\r\n",
        "for x in list1:\r\n",
        "   if(x in list1 and x in list2):\r\n",
        "      print(x)"
      ],
      "execution_count": null,
      "outputs": [
        {
          "output_type": "stream",
          "text": [
            "the first  list is :[1, 2, 4, 3, 8]\n",
            "the second list is :[1, 2, 4, 3, 5]\n",
            "the values occur in both lists :\n",
            "1\n",
            "2\n",
            "4\n",
            "3\n"
          ],
          "name": "stdout"
        }
      ]
    },
    {
      "cell_type": "markdown",
      "metadata": {
        "id": "uxY1ArnZAfDv"
      },
      "source": [
        ""
      ]
    },
    {
      "cell_type": "code",
      "metadata": {
        "colab": {
          "base_uri": "https://localhost:8080/"
        },
        "id": "y2dY0DXorrJW",
        "outputId": "f74b3152-685f-4c29-b037-ffcd56421d80"
      },
      "source": [
        "#12 Accept a file name from user and print extension of that\r\n",
        "filename = input(\"Enter the Filename : \")\r\n",
        "f_extns = filename.split(\".\")\r\n",
        "print (\"The extension of the file is : \" + repr(f_extns[-1]))"
      ],
      "execution_count": null,
      "outputs": [
        {
          "output_type": "stream",
          "text": [
            "Enter the Filename : array.html\n",
            "The extension of the file is : 'html'\n"
          ],
          "name": "stdout"
        }
      ]
    },
    {
      "cell_type": "code",
      "metadata": {
        "id": "g20No4Z9QklF",
        "colab": {
          "base_uri": "https://localhost:8080/"
        },
        "outputId": "d556fe4d-1014-43d2-bb08-4ecef2cf7bf5"
      },
      "source": [
        "# 13) Create a list of colors from comma-separated color names entered by user. Display first and last colors.\r\n",
        "color_list = [\"Red\",\"Green\",\"White\" ,\"Black\"]\r\n",
        "print( \"%s %s\"%(color_list[0],color_list[-1]))"
      ],
      "execution_count": null,
      "outputs": [
        {
          "output_type": "stream",
          "text": [
            "Red Black\n"
          ],
          "name": "stdout"
        }
      ]
    },
    {
      "cell_type": "code",
      "metadata": {
        "colab": {
          "base_uri": "https://localhost:8080/"
        },
        "id": "XBLVLRTNBLFP",
        "outputId": "22a0035f-25c1-4701-bd2c-8aa72437f2c0"
      },
      "source": [
        "# 15) Print out all colors from color-list1 not contained in color-list2.\r\n",
        "color_list_1 = set([\"White\", \"Black\", \"Red\"])\r\n",
        "color_list_2 = set([\"Red\", \"Green\"])\r\n",
        "print(color_list_1.difference(color_list_2))\r\n",
        "\r\n"
      ],
      "execution_count": null,
      "outputs": [
        {
          "output_type": "stream",
          "text": [
            "{'Black', 'White'}\n"
          ],
          "name": "stdout"
        }
      ]
    },
    {
      "cell_type": "code",
      "metadata": {
        "colab": {
          "base_uri": "https://localhost:8080/"
        },
        "id": "QhfE-9pLBmpy",
        "outputId": "0c40f39d-cf04-44bb-9535-3ab9f645f5b2"
      },
      "source": [
        "# 16) Create a single string separated with space from two strings by swapping the character at position 1.\r\n",
        "def chars_mix_up(a, b):\r\n",
        "  new_a = b[:2] + a[2:]\r\n",
        "  new_b = a[:2] + b[2:]\r\n",
        "  return new_a + ' ' + new_b\r\n",
        "print(chars_mix_up('abc', 'xyz'))\r\n",
        "\r\n"
      ],
      "execution_count": null,
      "outputs": [
        {
          "output_type": "stream",
          "text": [
            "xyc abz\n"
          ],
          "name": "stdout"
        }
      ]
    },
    {
      "cell_type": "code",
      "metadata": {
        "colab": {
          "base_uri": "https://localhost:8080/"
        },
        "id": "21g62KZer8k_",
        "outputId": "3818d5b3-398c-4bb6-98fb-ea1d8edb874f"
      },
      "source": [
        "#17 sort ascending or descending\r\n",
        "import operator\r\n",
        "d = {1: 2, 3: 4, 4: 3, 2: 1, 0: 0}\r\n",
        "print('Original dictionary : ',d)\r\n",
        "sorted_d = sorted(d.items(), key=operator.itemgetter(1))\r\n",
        "print('Dictionary in ascending order by value : ',sorted_d)\r\n",
        "sorted_d = dict( sorted(d.items(), key=operator.itemgetter(1),reverse=True))\r\n",
        "print('Dictionary in descending order by value : ',sorted_d)"
      ],
      "execution_count": null,
      "outputs": [
        {
          "output_type": "stream",
          "text": [
            "Original dictionary :  {1: 2, 3: 4, 4: 3, 2: 1, 0: 0}\n",
            "Dictionary in ascending order by value :  [(0, 0), (2, 1), (1, 2), (4, 3), (3, 4)]\n",
            "Dictionary in descending order by value :  {3: 4, 4: 3, 1: 2, 2: 1, 0: 0}\n"
          ],
          "name": "stdout"
        }
      ]
    }
  ]
}